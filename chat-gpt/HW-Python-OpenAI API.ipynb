{
 "nbformat": 4,
 "nbformat_minor": 0,
 "metadata": {
  "colab": {
   "provenance": [],
   "authorship_tag": "ABX9TyOIO2VZcnapoYEYOgzZqxjI"
  },
  "kernelspec": {
   "name": "python3",
   "display_name": "Python 3"
  },
  "language_info": {
   "name": "python"
  }
 },
 "cells": [
  {
   "cell_type": "markdown",
   "source": [
    "# Developer quickstart"
   ],
   "metadata": {
    "id": "PADeMqCgrii6"
   }
  },
  {
   "cell_type": "markdown",
   "source": [
    "Посилання на гайд на тему \"як почати працювати з моделями від OpenAI через API за допомогою Python\"  https://platform.openai.com/docs/quickstart?context=python"
   ],
   "metadata": {
    "id": "PMmPw8d3rhDi"
   }
  },
  {
   "cell_type": "code",
   "source": [
    "# Встановлення бібліотеки від OpenAI\n",
    "!pip install -q --upgrade openai"
   ],
   "metadata": {
    "id": "0XRTFgzTsAJc",
    "executionInfo": {
     "status": "ok",
     "timestamp": 1714652088145,
     "user_tz": -180,
     "elapsed": 14293,
     "user": {
      "displayName": "Костянтин Андрійович Загорулько",
      "userId": "12546964856505224162"
     }
    },
    "outputId": "09b54054-8255-46f8-94ef-2cc635e6add5",
    "colab": {
     "base_uri": "https://localhost:8080/"
    }
   },
   "execution_count": 1,
   "outputs": [
    {
     "output_type": "stream",
     "name": "stdout",
     "text": [
      "\u001B[?25l     \u001B[90m━━━━━━━━━━━━━━━━━━━━━━━━━━━━━━━━━━━━━━━━\u001B[0m \u001B[32m0.0/312.9 kB\u001B[0m \u001B[31m?\u001B[0m eta \u001B[36m-:--:--\u001B[0m\r\u001B[2K     \u001B[91m━━━━━━━━━━━━━━━━━━━━━━━━━━━━\u001B[0m\u001B[91m╸\u001B[0m\u001B[90m━━━━━━━━━━━\u001B[0m \u001B[32m225.3/312.9 kB\u001B[0m \u001B[31m6.7 MB/s\u001B[0m eta \u001B[36m0:00:01\u001B[0m\r\u001B[2K     \u001B[90m━━━━━━━━━━━━━━━━━━━━━━━━━━━━━━━━━━━━━━━━\u001B[0m \u001B[32m312.9/312.9 kB\u001B[0m \u001B[31m5.4 MB/s\u001B[0m eta \u001B[36m0:00:00\u001B[0m\n",
      "\u001B[2K     \u001B[90m━━━━━━━━━━━━━━━━━━━━━━━━━━━━━━━━━━━━━━━━\u001B[0m \u001B[32m75.6/75.6 kB\u001B[0m \u001B[31m6.1 MB/s\u001B[0m eta \u001B[36m0:00:00\u001B[0m\n",
      "\u001B[2K     \u001B[90m━━━━━━━━━━━━━━━━━━━━━━━━━━━━━━━━━━━━━━━━\u001B[0m \u001B[32m77.9/77.9 kB\u001B[0m \u001B[31m6.5 MB/s\u001B[0m eta \u001B[36m0:00:00\u001B[0m\n",
      "\u001B[2K     \u001B[90m━━━━━━━━━━━━━━━━━━━━━━━━━━━━━━━━━━━━━━━━\u001B[0m \u001B[32m58.3/58.3 kB\u001B[0m \u001B[31m4.3 MB/s\u001B[0m eta \u001B[36m0:00:00\u001B[0m\n",
      "\u001B[?25h"
     ]
    }
   ]
  },
  {
   "cell_type": "code",
   "execution_count": null,
   "outputs": [],
   "source": [
    "# Достаємо з бібліотеки класс OpenAI\n",
    "from openai import OpenAI\n",
    "# Створюємо об'єкт client, який бере класс OpenAI за основу, та передаємо ключ авторизації\n",
    "client = OpenAI(api_key=input(\"Введіть ваш ключ авторизації (звернутися до вчителя): \"))"
   ],
   "metadata": {
    "collapsed": false
   }
  },
  {
   "cell_type": "code",
   "source": [
    "hw_text = \"\"\"\n",
    "1\n",
    "Do you own a mobile phone? Do you send text\n",
    "messages? Even if you send texts, it's likely that in\n",
    "America you are going to find teens sending many more\n",
    "than you do! American teens are sending more text\n",
    "messages to each other than ever before. How many?\n",
    "Well, if you had a dollar for every text the average\n",
    "American teens send in a month, you would have over\n",
    "$3,300!\n",
    "\n",
    "2\n",
    "Just ten years ago, it was very rare to see an American\n",
    "teen with a mobile phone. Back then, they were mostly\n",
    "just used for emergencies. Now, though, American\n",
    "teenage girls send an average of 4,050 texts per month!\n",
    "Teen boys send fewer, but their total still reaches 3,000 a\n",
    "month! So why have American teens turned into text-\n",
    "zombies? Many teens like how confidential texting is. They\n",
    "can send and receive texts without their parents or\n",
    "teachers knowing about it. Another reason is teens' busy\n",
    "schedules. Many teens are involved in after-school\n",
    "activities or have volunteer or regular jobs, and texting is\n",
    "much easier and faster than talking on the phone.\n",
    "\"\"\"\n",
    "\n",
    "task_text = \"\"\"\n",
    "Answer the questions in your own words.\n",
    "\n",
    "1 What group of teens use their mobile phones more?\n",
    "2 What does the writer mean when he says \"All this texting comes at a price\"?\n",
    "3 Who is the writer addressing in the text? What is his purpose?\n",
    "\"\"\"\n",
    "\n",
    "user_content = f\"pls help me to do this task:\\n{task_text}\\n\\nbased on the following context:\\n{hw_text}\"\n",
    "\n",
    "\n",
    "print(user_content)"
   ],
   "metadata": {
    "colab": {
     "base_uri": "https://localhost:8080/"
    },
    "id": "_Thq7jriraNg",
    "executionInfo": {
     "status": "ok",
     "timestamp": 1714652346494,
     "user_tz": -180,
     "elapsed": 833,
     "user": {
      "displayName": "Костянтин Андрійович Загорулько",
      "userId": "12546964856505224162"
     }
    },
    "outputId": "79489ea1-e270-4d8e-c42f-88ada5e1d4f1"
   },
   "execution_count": 2,
   "outputs": [
    {
     "output_type": "stream",
     "name": "stdout",
     "text": [
      "pls help me to do this task:\n",
      "\n",
      "Answer the questions in your own words.\n",
      "\n",
      "1 What group of teens use their mobile phones more?\n",
      "2 What does the writer mean when he says \"All this texting comes at a price\"?\n",
      "3 Who is the writer addressing in the text? What is his purpose?\n",
      "\n",
      "\n",
      "based on the following context:\n",
      "\n",
      "1\n",
      "Do you own a mobile phone? Do you send text\n",
      "messages? Even if you send texts, it's likely that in\n",
      "America you are going to find teens sending many more\n",
      "than you do! American teens are sending more text\n",
      "messages to each other than ever before. How many?\n",
      "Well, if you had a dollar for every text the average\n",
      "American teens send in a month, you would have over\n",
      "$3,300!\n",
      "\n",
      "2\n",
      "Just ten years ago, it was very rare to see an American\n",
      "teen with a mobile phone. Back then, they were mostly\n",
      "just used for emergencies. Now, though, American\n",
      "teenage girls send an average of 4,050 texts per month!\n",
      "Teen boys send fewer, but their total still reaches 3,000 a\n",
      "month! So why have American teens turned into text-\n",
      "zombies? Many teens like how confidential texting is. They\n",
      "can send and receive texts without their parents or\n",
      "teachers knowing about it. Another reason is teens' busy\n",
      "schedules. Many teens are involved in after-school\n",
      "activities or have volunteer or regular jobs, and texting is\n",
      "much easier and faster than talking on the phone.\n"
     ]
    }
   ]
  },
  {
   "cell_type": "code",
   "source": [
    "model = \"gpt-3.5-turbo\"\n",
    "\n",
    "messages = [\n",
    "    {\"role\": \"system\", \"content\": \"You are an assistant, who helps nine grade`s students to study English. You must write output in English level B1 only.\"},\n",
    "    {\"role\": \"user\", \"content\": user_content}\n",
    "  ]\n",
    "\n",
    "completion = client.chat.completions.create(\n",
    "  model=model,\n",
    "  messages=messages\n",
    ")\n",
    "\n",
    "response = completion.choices[0].message.content\n",
    "print(response)"
   ],
   "metadata": {
    "colab": {
     "base_uri": "https://localhost:8080/"
    },
    "id": "zQwEEpQfPelq",
    "executionInfo": {
     "status": "ok",
     "timestamp": 1714652561120,
     "user_tz": -180,
     "elapsed": 3306,
     "user": {
      "displayName": "Костянтин Андрійович Загорулько",
      "userId": "12546964856505224162"
     }
    },
    "outputId": "ad55f691-3383-4c4a-e90a-27cfa7819b74"
   },
   "execution_count": 6,
   "outputs": [
    {
     "output_type": "stream",
     "name": "stdout",
     "text": [
      "1. American teens use their mobile phones more for texting compared to other age groups.\n",
      "2. When the writer says \"All this texting comes at a price,\" he means that there are negative consequences or downsides to sending so many text messages, such as potential impacts on personal relationships, communication skills, and health.\n",
      "3. The writer is addressing the readers of the text to inform them about the excessive texting habits of American teens and to shed light on the reasons behind this behavior. His purpose is to raise awareness and generate discussion about the implications of high text messaging rates among teenagers.\n"
     ]
    }
   ]
  },
  {
   "cell_type": "code",
   "source": [
    "model = \"gpt-4-turbo\"\n",
    "completion = client.chat.completions.create(\n",
    "  model=model,\n",
    "  messages=messages\n",
    ")\n",
    "\n",
    "response = completion.choices[0].message.content\n",
    "print(response)"
   ],
   "metadata": {
    "colab": {
     "base_uri": "https://localhost:8080/"
    },
    "id": "ZOTwtCYyPen1",
    "executionInfo": {
     "status": "ok",
     "timestamp": 1714652574257,
     "user_tz": -180,
     "elapsed": 13139,
     "user": {
      "displayName": "Костянтин Андрійович Загорулько",
      "userId": "12546964856505224162"
     }
    },
    "outputId": "f0e53b6f-2c29-48c6-8c5e-f756b2f7d43d"
   },
   "execution_count": 7,
   "outputs": [
    {
     "output_type": "stream",
     "name": "stdout",
     "text": [
      "Here are the answers to your questions based on the context provided:\n",
      "\n",
      "1. **What group of teens use their mobile phones more?**\n",
      "   - American teenage girls use their mobile phones more for texting compared to teenage boys. On average, teenage girls send about 4,050 texts per month, while teen boys send around 3,000 texts per month.\n",
      "\n",
      "2. **What does the writer mean when he says \"All this texting comes at a price\"?**\n",
      "   - When the writer says \"All this texting comes at a price,\" he means that there are negative consequences or downsides to texting so much. These could include costs such as less face-to-face communication, potential misunderstandings, distractions from important tasks, or even the physical cost of sending so many texts depending on the phone plan.\n",
      "\n",
      "3. **Who is the writer addressing in the text? What is his purpose?**\n",
      "   - The writer is addressing the general public, likely including parents, educators, and other adults who interact with teens. His purpose is to inform and possibly alert the readers about the extensive amount of texting among American teens and to discuss the reasons why texting has become so popular among this age group. The intent might also be to provoke thought about the impacts of this trend on communication and social skills.\n"
     ]
    }
   ]
  },
  {
   "cell_type": "code",
   "source": [],
   "metadata": {
    "id": "fhfSt782PeqW"
   },
   "execution_count": null,
   "outputs": []
  },
  {
   "cell_type": "code",
   "source": [
    "# аби постійно всюди не змінювати назву моделі, якщо хочемо спробувати іншу,\n",
    "# то треба створити окрему змінну - назва моделі\n",
    "model_name = \"gpt-3.5-turbo\"\n",
    "\n",
    "# та винесемо повідомлення теж в окрему змінну\n",
    "our_messages = [\n",
    "    {\"role\": \"system\", \"content\": \"You are a poetic assistant, skilled in explaining complex programming concepts with creative flair. Write output in Ukrainian\"},\n",
    "    {\"role\": \"user\", \"content\": \"Compose a poem that explains the concept of dictionary in programming, in a Ukrainian poet Taras Shevchenko.\"}\n",
    "  ]\n",
    "\n",
    "completion = client.chat.completions.create(model=model_name,  messages=our_messages)\n",
    "response = completion.choices[0].message.content\n",
    "print(response)"
   ],
   "metadata": {
    "colab": {
     "base_uri": "https://localhost:8080/"
    },
    "id": "8NzpPun5sRyK",
    "executionInfo": {
     "status": "ok",
     "timestamp": 1713796146891,
     "user_tz": -180,
     "elapsed": 6145,
     "user": {
      "displayName": "Костянтин Андрійович Загорулько",
      "userId": "12546964856505224162"
     }
    },
    "outputId": "0136c2ae-5d92-4fcb-a558-89a2f268820d"
   },
   "execution_count": null,
   "outputs": [
    {
     "output_type": "stream",
     "name": "stdout",
     "text": [
      "У програмуванні є словник важливий,\n",
      "Як книга віршів Тараса Шевченка.\n",
      "Тут пари ключ-значення мають значість,\n",
      "І слова впорядку яскраво линуть.\n",
      "\n",
      "Ключ показує, де знаходиться правда,\n",
      "А значення — мудрість в словах зміст.\n",
      "І як у віршах, сказане там мудро,\n",
      "Словник у програмі розум розкриває.\n",
      "\n",
      "Так не загубишся в кодовому гаї,\n",
      "І словник допомагає завжди легко.\n",
      "То як в поезії, слід слова важливі\n",
      "Зберігати в словнику, не загубивши ніде.\n"
     ]
    }
   ]
  },
  {
   "cell_type": "code",
   "source": [
    "# ми створили змінні model_name та our_messages - аби далі користуватися нашим кодом з мінільманими змінами\n",
    "# наприклад, ми хочемо змінити Taras Shevchenko на Lesiia Ukraiinka\n",
    "# візьмемо content другого повідомлення\n",
    "our_messages[1][\"content\"]"
   ],
   "metadata": {
    "colab": {
     "base_uri": "https://localhost:8080/",
     "height": 36
    },
    "id": "AqUF0XtO8Pqb",
    "executionInfo": {
     "status": "ok",
     "timestamp": 1713796310580,
     "user_tz": -180,
     "elapsed": 335,
     "user": {
      "displayName": "Костянтин Андрійович Загорулько",
      "userId": "12546964856505224162"
     }
    },
    "outputId": "a24e306b-295c-4077-bc7d-b62e4bfb491a"
   },
   "execution_count": null,
   "outputs": [
    {
     "output_type": "execute_result",
     "data": {
      "text/plain": [
       "'Compose a poem that explains the concept of dictionary in programming, in a Ukrainian poet Taras Shevchenko.'"
      ],
      "application/vnd.google.colaboratory.intrinsic+json": {
       "type": "string"
      }
     },
     "metadata": {},
     "execution_count": 4
    }
   ]
  },
  {
   "cell_type": "code",
   "source": [
    "# порахуемо кількість символів у Taras Shevchenko\n",
    "# так ми знайдемо скільки символів треба прибрати з кінця\n",
    "len(\"Taras Shevchenko\")"
   ],
   "metadata": {
    "colab": {
     "base_uri": "https://localhost:8080/"
    },
    "id": "8yD1O_fY9vha",
    "executionInfo": {
     "status": "ok",
     "timestamp": 1713796311997,
     "user_tz": -180,
     "elapsed": 357,
     "user": {
      "displayName": "Костянтин Андрійович Загорулько",
      "userId": "12546964856505224162"
     }
    },
    "outputId": "c5ad630a-7cf5-445d-e8ac-fdf5b00aeb2f"
   },
   "execution_count": null,
   "outputs": [
    {
     "output_type": "execute_result",
     "data": {
      "text/plain": [
       "16"
      ]
     },
     "metadata": {},
     "execution_count": 5
    }
   ]
  },
  {
   "cell_type": "code",
   "source": [
    "# змінемо Taras Shevchenko на Lesiia Ukraiinka\n",
    "# для цього створимо poet_name_breakpoint - кількість символів що треба прибрати з кінця\n",
    "poet_name_breakpoint = len(\"Taras Shevchenko\") + 1\n",
    "\n",
    "our_messages[1][\"content\"][:-poet_name_breakpoint]"
   ],
   "metadata": {
    "colab": {
     "base_uri": "https://localhost:8080/",
     "height": 36
    },
    "id": "W73FfQem9nFd",
    "executionInfo": {
     "status": "ok",
     "timestamp": 1713796313741,
     "user_tz": -180,
     "elapsed": 2,
     "user": {
      "displayName": "Костянтин Андрійович Загорулько",
      "userId": "12546964856505224162"
     }
    },
    "outputId": "488bd8f6-e0c4-428c-cf05-090f79d96e7d"
   },
   "execution_count": null,
   "outputs": [
    {
     "output_type": "execute_result",
     "data": {
      "text/plain": [
       "'Compose a poem that explains the concept of dictionary in programming, in a Ukrainian poet '"
      ],
      "application/vnd.google.colaboratory.intrinsic+json": {
       "type": "string"
      }
     },
     "metadata": {},
     "execution_count": 6
    }
   ]
  },
  {
   "cell_type": "code",
   "source": [
    "lesiia_content = our_messages[1][\"content\"][:-poet_name_breakpoint] + \"Lesiia Ukraiinka\"\n",
    "lesiia_content"
   ],
   "metadata": {
    "colab": {
     "base_uri": "https://localhost:8080/",
     "height": 36
    },
    "id": "NH3FpfuO-_hG",
    "executionInfo": {
     "status": "ok",
     "timestamp": 1713796361865,
     "user_tz": -180,
     "elapsed": 5,
     "user": {
      "displayName": "Костянтин Андрійович Загорулько",
      "userId": "12546964856505224162"
     }
    },
    "outputId": "16942703-ac6b-4600-e31d-3e3636a13136"
   },
   "execution_count": null,
   "outputs": [
    {
     "output_type": "execute_result",
     "data": {
      "text/plain": [
       "'Compose a poem that explains the concept of dictionary in programming, in a Ukrainian poet Lesiia Ukraiinka'"
      ],
      "application/vnd.google.colaboratory.intrinsic+json": {
       "type": "string"
      }
     },
     "metadata": {},
     "execution_count": 7
    }
   ]
  },
  {
   "cell_type": "code",
   "source": [
    "# тепер створимо новий список повідомлень з Лесею\n",
    "lesiia_messages = [\n",
    "    our_messages[0], # перше не міняємо\n",
    "    {\n",
    "        \"role\": \"user\", \"content\": lesiia_content\n",
    "    }\n",
    "]\n",
    "\n",
    "lesiia_messages"
   ],
   "metadata": {
    "colab": {
     "base_uri": "https://localhost:8080/"
    },
    "id": "-aR-4OWl-aPQ",
    "executionInfo": {
     "status": "ok",
     "timestamp": 1713796365175,
     "user_tz": -180,
     "elapsed": 936,
     "user": {
      "displayName": "Костянтин Андрійович Загорулько",
      "userId": "12546964856505224162"
     }
    },
    "outputId": "5e7c1c7e-fb8f-4e46-830d-5685c87306b6"
   },
   "execution_count": null,
   "outputs": [
    {
     "output_type": "execute_result",
     "data": {
      "text/plain": [
       "[{'role': 'system',\n",
       "  'content': 'You are a poetic assistant, skilled in explaining complex programming concepts with creative flair. Write output in Ukrainian'},\n",
       " {'role': 'user',\n",
       "  'content': 'Compose a poem that explains the concept of dictionary in programming, in a Ukrainian poet Lesiia Ukraiinka'}]"
      ]
     },
     "metadata": {},
     "execution_count": 8
    }
   ]
  },
  {
   "cell_type": "code",
   "source": [
    "completion = client.chat.completions.create(model=model_name,  messages=lesiia_messages)\n",
    "response = completion.choices[0].message.content\n",
    "print(response)"
   ],
   "metadata": {
    "colab": {
     "base_uri": "https://localhost:8080/"
    },
    "id": "5007gDTI9nIX",
    "executionInfo": {
     "status": "ok",
     "timestamp": 1713796384082,
     "user_tz": -180,
     "elapsed": 8551,
     "user": {
      "displayName": "Костянтин Андрійович Загорулько",
      "userId": "12546964856505224162"
     }
    },
    "outputId": "63e18115-f7e0-463b-c8b4-903de0f1309c"
   },
   "execution_count": null,
   "outputs": [
    {
     "output_type": "stream",
     "name": "stdout",
     "text": [
      "У таємничій книзі програмування,\n",
      "Словник нам відкриває чудеса свої.\n",
      "Тут ключі та значення - слова чарівні,\n",
      "Де кожне - мов таємниця скрита від нас.\n",
      "\n",
      "Зіткані з них історії програми,\n",
      "Де ключі - це стежки, що ведуть у світ,\n",
      "А значення - те, що таємно написано,\n",
      "І відкриває нові горизонти.\n",
      "\n",
      "Так словник у програмі - це мудрість століть,\n",
      "Де кожен ключ - це як окремий образ,\n",
      "А значення - мов музика невидимих строк,\n",
      "Що відкриває шлях в безмежні простори.\n",
      "\n",
      "О, словник, подружний нам у програмах,\n",
      "Де зберігаєш таємниці світу цифр,\n",
      "Ти мов поет, що грає зі словами,\n",
      "І тільки ти відкриваєш нам дорогу в небуття.\n"
     ]
    }
   ]
  },
  {
   "cell_type": "code",
   "source": [],
   "metadata": {
    "id": "G9xPEL0M8PvC"
   },
   "execution_count": null,
   "outputs": []
  }
 ]
}
