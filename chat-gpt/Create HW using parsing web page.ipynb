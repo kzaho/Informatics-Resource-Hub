{
 "cells": [
  {
   "cell_type": "code",
   "execution_count": 1,
   "outputs": [
    {
     "name": "stdout",
     "output_type": "stream",
     "text": [
      "Working with Streamlit is simple. First you sprinkle a few Streamlit commands\n",
      "into a normal Python script, then you run it with streamlit run:\n",
      "streamlit run your_script.py [-- script args]\n",
      "\n",
      "As soon as\n"
     ]
    }
   ],
   "source": [
    "import os\n",
    "\n",
    "import requests\n",
    "from bs4 import BeautifulSoup\n",
    "\n",
    "def get_streamlit_concepts(url, title):\n",
    "    # Send a GET request to the webpage\n",
    "    response = requests.get(url)\n",
    "    response.raise_for_status()  # Raises an HTTPError for bad responses\n",
    "\n",
    "    # Parse the HTML content of the page\n",
    "    soup = BeautifulSoup(response.text, 'html.parser')\n",
    "\n",
    "    # Find the section that contains the specified title\n",
    "    title_tag = soup.find(lambda tag: tag.name == \"h1\" and title in tag.text)\n",
    "    \n",
    "    # Check if the title is found\n",
    "    if not title_tag:\n",
    "        return \"Title not found.\"\n",
    "\n",
    "    # Collect all subsequent siblings that are either 'h1' or the tags that hold content until the next 'h1'\n",
    "    content = []\n",
    "    for sibling in title_tag.find_next_siblings():\n",
    "        if sibling.name == \"h1\":  # Break the loop if another 'h1' is found\n",
    "            break\n",
    "        content.append(sibling.text)\n",
    "    \n",
    "    return \"\\n\".join(content)\n",
    "\n",
    "# URL and the title we are interested in\n",
    "url = 'https://docs.streamlit.io/get-started/fundamentals/main-concepts'\n",
    "title = \"Basic concepts of Streamlit\"\n",
    "\n",
    "# Get and print the content\n",
    "streamlit_content = get_streamlit_concepts(url, title)\n",
    "print(streamlit_content[:200])"
   ],
   "metadata": {
    "collapsed": false,
    "ExecuteTime": {
     "end_time": "2024-05-06T10:21:46.062552100Z",
     "start_time": "2024-05-06T10:21:45.390236200Z"
    }
   },
   "id": "initial_id"
  },
  {
   "cell_type": "code",
   "execution_count": 2,
   "outputs": [
    {
     "name": "stdout",
     "output_type": "stream",
     "text": [
      ".progress(i + 1)\n",
      "  time.sleep(0.1)\n",
      "\n",
      "'...and now we\\'re done!'\n",
      "\n",
      "Previous: FundamentalsNext: Advanced concepts\n",
      "forumStill have questions?Our forums are full of helpful information and Streamlit experts.\n"
     ]
    }
   ],
   "source": [
    "print(streamlit_content[-200:])"
   ],
   "metadata": {
    "collapsed": false,
    "ExecuteTime": {
     "end_time": "2024-05-06T10:21:46.104847Z",
     "start_time": "2024-05-06T10:21:46.064548700Z"
    }
   },
   "id": "56ba88d136636b8e"
  },
  {
   "cell_type": "code",
   "execution_count": 3,
   "outputs": [],
   "source": [
    "main_topic = \"Streamlit\"\n",
    "system_content = \"\"\"\n",
    "You are an teacher assistant, who helps to prepare studying materials to study Python.\n",
    "The content you provide should be at the level of a beginner Python learner.\n",
    "You are asked to provide a brief explanation of the basic concepts of {main_topic}.\n",
    "The explanation should be clear and easy to understand for nine grade school students.\n",
    "You must write output in Ukrainian only.\n",
    "The output format should be at Markdown.\n",
    "\"\"\"\n",
    "user_content = \"\"\"\n",
    "Generate the home work using the context:\\n\\n{context}\n",
    "\"\"\""
   ],
   "metadata": {
    "collapsed": false,
    "ExecuteTime": {
     "end_time": "2024-05-06T10:21:46.111841100Z",
     "start_time": "2024-05-06T10:21:46.076549200Z"
    }
   },
   "id": "f2b5f0f0cd2b51fb"
  },
  {
   "cell_type": "code",
   "execution_count": 4,
   "outputs": [],
   "source": [
    "messages = [\n",
    "    {\"role\": \"system\", \"content\": system_content.format(main_topic=main_topic)},\n",
    "    {\"role\": \"user\", \"content\": user_content.format(context=streamlit_content)}\n",
    "]"
   ],
   "metadata": {
    "collapsed": false,
    "ExecuteTime": {
     "end_time": "2024-05-06T10:21:46.111841100Z",
     "start_time": "2024-05-06T10:21:46.092553300Z"
    }
   },
   "id": "3ff8621b2c3e1a61"
  },
  {
   "cell_type": "code",
   "execution_count": 7,
   "outputs": [
    {
     "name": "stdout",
     "output_type": "stream",
     "text": [
      "Environment file loaded: True\n"
     ]
    }
   ],
   "source": [
    "from dotenv import load_dotenv\n",
    "\n",
    "# take environment variables from .env.\n",
    "success = load_dotenv(dotenv_path='./../.env')\n",
    "print(\"Environment file loaded:\", success)"
   ],
   "metadata": {
    "collapsed": false,
    "ExecuteTime": {
     "end_time": "2024-05-06T10:22:02.203372300Z",
     "start_time": "2024-05-06T10:22:02.184369500Z"
    }
   },
   "id": "12dac18461b114e"
  },
  {
   "cell_type": "code",
   "execution_count": 8,
   "outputs": [],
   "source": [
    "from openai import OpenAI\n",
    "\n",
    "client = OpenAI(api_key=os.getenv('OPENAI_API_KEY'))"
   ],
   "metadata": {
    "collapsed": false,
    "ExecuteTime": {
     "end_time": "2024-05-06T10:22:05.739384800Z",
     "start_time": "2024-05-06T10:22:05.069918100Z"
    }
   },
   "id": "4689313c302d085c"
  },
  {
   "cell_type": "code",
   "execution_count": 8,
   "outputs": [],
   "source": [
    "model = \"gpt-4-turbo\"\n",
    "completion = client.chat.completions.create(\n",
    "  model=model,\n",
    "  messages=messages\n",
    ")\n",
    "\n",
    "response = completion.choices[0].message.content"
   ],
   "metadata": {
    "collapsed": false,
    "ExecuteTime": {
     "end_time": "2024-05-06T09:29:18.431612300Z",
     "start_time": "2024-05-06T09:28:30.629700400Z"
    }
   },
   "id": "df310fdb57f2a97a"
  },
  {
   "cell_type": "code",
   "execution_count": 9,
   "outputs": [
    {
     "data": {
      "text/plain": "<IPython.core.display.Markdown object>",
      "text/markdown": "### Домашнє завдання: Практичне використання Streamlit\n\n**Мета завдання:**\nСтворити простий веб-додаток за допомогою Streamlit, який вміє відображати таблиці та графіки, а також реагувати на взаємодію з користувачем через віджети.\n\n#### Інструкції:\n\n1. **Створення таблиці**\n   - Використайте код нижче, щоб створити і відобразити просту таблицю в Streamlit:\n   ```python\n   import streamlit as st\n   import pandas as pd\n\n   df = pd.DataFrame({\n     'Перша колонка': [1, 2, 3, 4],\n     'Друга колонка': [10, 20, 30, 40]\n   })\n\n   st.write('Ось наша перша спроба використання даних для створення таблиці:')\n   st.write(df)\n   ```\n\n2. **Додавання віджету і взаємодія**\n   - Додайте слайдер для вибору числа, і виведіть квадрат цього числа. Використайте код:\n   ```python\n   x = st.slider('Виберіть число', min_value=0, max_value=100)\n   st.write(x, 'в квадраті це', x * x)\n   ```\n\n3. **Створення графіка**\n   - Додайте лінійний графік використовуючи дані, які генеруються випадково:\n   ```python\n   import numpy as np\n\n   chart_data = pd.DataFrame(\n        np.random.randn(20, 3),\n        columns=['a', 'b', 'c'])\n\n   st.line_chart(chart_data)\n   ```\n\n4. **Створення карти з точками**\n   - Використайте наступний код, щоб відобразити точки на карті Сан-Франциско:\n   ```python\n   map_data = pd.DataFrame(\n       np.random.randn(1000, 2) / [50, 50] + [37.76, -122.4],\n       columns=['lat', 'lon'])\n\n   st.map(map_data)\n   ```\n\n#### Завдання для подання:\n- Після виконання вправи збережіть ваш скрипт під назвою `streamlit_app.py`.\n- Запустіть ваш Streamlit додаток локально і зробіть скріншоти або записи екрану демонструючи роботу віджетів та ваших таблиць/графіків.\n- Відправте файли коду і скріншоти/записи як частину вашої домашньої роботи.\n\n#### Додаткові вказівки:\n- Переконайтесь, що у вас встановлені необхідні бібліотеки: Streamlit, pandas, numpy.\n- Якщо маєте питання або потребуєте допомоги, не соромтесь звертатися за допомогою."
     },
     "metadata": {},
     "output_type": "display_data"
    }
   ],
   "source": [
    "from IPython.display import display, Markdown\n",
    "\n",
    "display(Markdown(response))"
   ],
   "metadata": {
    "collapsed": false,
    "ExecuteTime": {
     "end_time": "2024-05-06T09:29:32.053550500Z",
     "start_time": "2024-05-06T09:29:32.033552800Z"
    }
   },
   "id": "92ee1faaa06abc2e"
  },
  {
   "cell_type": "code",
   "execution_count": 12,
   "outputs": [],
   "source": [
    "# File path where you want to save the markdown file\n",
    "file_path = './streamlit-case/HW-1-Streamlit-basics.md'\n",
    "\n",
    "# Open the file in write mode and write the markdown string\n",
    "with open(file_path, 'w', encoding='utf-8') as file:\n",
    "    file.write(response)"
   ],
   "metadata": {
    "collapsed": false,
    "ExecuteTime": {
     "end_time": "2024-05-06T09:35:18.520867800Z",
     "start_time": "2024-05-06T09:35:18.509867400Z"
    }
   },
   "id": "ce5cd4e464cee678"
  },
  {
   "cell_type": "code",
   "execution_count": null,
   "outputs": [],
   "source": [],
   "metadata": {
    "collapsed": false
   },
   "id": "fac558de1af2decf"
  },
  {
   "cell_type": "code",
   "execution_count": null,
   "outputs": [],
   "source": [],
   "metadata": {
    "collapsed": false
   },
   "id": "a5b1add2f410801f"
  },
  {
   "cell_type": "code",
   "execution_count": null,
   "outputs": [],
   "source": [],
   "metadata": {
    "collapsed": false
   },
   "id": "544b2b077f17415f"
  },
  {
   "cell_type": "code",
   "execution_count": null,
   "outputs": [],
   "source": [],
   "metadata": {
    "collapsed": false
   },
   "id": "be4667ea78391683"
  }
 ],
 "metadata": {
  "kernelspec": {
   "display_name": "Python 3",
   "language": "python",
   "name": "python3"
  },
  "language_info": {
   "codemirror_mode": {
    "name": "ipython",
    "version": 2
   },
   "file_extension": ".py",
   "mimetype": "text/x-python",
   "name": "python",
   "nbconvert_exporter": "python",
   "pygments_lexer": "ipython2",
   "version": "2.7.6"
  }
 },
 "nbformat": 4,
 "nbformat_minor": 5
}
